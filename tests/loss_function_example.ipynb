{
 "cells": [
  {
   "cell_type": "code",
   "execution_count": null,
   "metadata": {},
   "outputs": [],
   "source": [
    "# Add the parent directory to the Python path\n",
    "import sys\n",
    "import os\n",
    "parent_dir = os.path.abspath('..')\n",
    "if parent_dir not in sys.path:\n",
    "    sys.path.append(parent_dir)\n",
    "\n",
    "# Import loss function\n",
    "from texstat.functions import *\n",
    "import texstat.torch_filterbanks.filterbanks as fb\n",
    "\n",
    "# Import extra packages\n",
    "import numpy as np\n",
    "import librosa\n",
    "import matplotlib.pyplot as plt\n",
    "from IPython.display import Audio\n",
    "import torch\n",
    "import torchaudio\n",
    "import time\n",
    "\n",
    "# Pick device\n",
    "device = \"cuda\" if torch.cuda.is_available() else \"cpu\"\n",
    "print(f\"Using device: {device}\")"
   ]
  },
  {
   "cell_type": "code",
   "execution_count": null,
   "metadata": {},
   "outputs": [],
   "source": [
    "# texture generation (for testing\n",
    "def texture_generator(sr, duration, num_sounds):\n",
    "    sound = np.zeros(duration * sr)\n",
    "    for i in range(num_sounds):\n",
    "        frequency = 110 * 2**(7 * np.random.rand(1) + 1)\n",
    "        sinusoid = np.sin(2 * np.pi * frequency * np.linspace(0, duration, duration * sr)+\n",
    "                          np.random.rand(1) * 2 * np.pi)\n",
    "        sound += sinusoid\n",
    "    return sound / np.max(np.abs(sound))\n",
    "\n",
    "# Generate two sounds\n",
    "sr = 44100\n",
    "sound_1 = texture_generator(sr, 5, 150)\n",
    "sound_2 = texture_generator(sr, 5, 150)\n",
    "\n",
    "# # Uncomment to load proper audio files \n",
    "# sound_1_path  = \"your_sound_1.wav\"\n",
    "# sound_2_path  = \"your_sound_2.wav\"\n",
    "# sr     = 44100\n",
    "# sound_1, _  = librosa.load(sound_1_path, sr=sr, mono=True)\n",
    "# sound_1     = sound_1/np.max(np.abs(sound_1))\n",
    "# sound_2, _ = librosa.load(sound_2_path, sr=sr, mono=True)\n",
    "# sound_2    = sound_2/np.max(np.abs(sound_2))\n",
    "\n",
    "# # white noise generation for testing\n",
    "# sr = 44100\n",
    "# sound_1 = np.random.normal(0, 1, 5*sr)\n",
    "# sound_2 = np.random.normal(0, 1, 5*sr)\n",
    "\n",
    "# display audio\n",
    "display(Audio(sound_1, rate=sr)) # sound_1\n",
    "display(Audio(sound_2, rate=sr)) # sound_2\n",
    "\n",
    "# Pick parameters\n",
    "frame_size    = 2**16\n",
    "N_filter_bank = 16\n",
    "M_filter_bank = 6\n",
    "N_moments     = 4\n",
    "alpha         = torch.tensor([100, 1, 1/10, 1/100])\n",
    "beta          = torch.tensor([1, 1, 1, 1, 1])\n",
    "\n",
    "# Chop segments of both audios and make them tensors\n",
    "sound_1_segment = torch.tensor(sound_1[:frame_size], device=device)\n",
    "sound_2_segment = torch.tensor(sound_2[:frame_size], device=device)\n",
    "\n",
    "# Make a batch out of the sounds\n",
    "batch_size = 8\n",
    "sound_1_batch = torch.stack([sound_1_segment] * batch_size).to(device)\n",
    "sound_2_batch = torch.stack([sound_2_segment] * batch_size).to(device)\n",
    "\n",
    "# Make filters and downsampler\n",
    "new_sr, new_frame_size = sr // 4, frame_size // 4 # for downsampler\n",
    "downsampler = torchaudio.transforms.Resample(sr, new_sr).to(device)\n",
    "coch_fb = fb.EqualRectangularBandwidth(frame_size, sr, N_filter_bank, 20, sr // 2)\n",
    "mod_fb  = fb.Logarithmic(new_frame_size,       new_sr, M_filter_bank, 10, new_sr // 4)"
   ]
  },
  {
   "cell_type": "code",
   "execution_count": null,
   "metadata": {},
   "outputs": [],
   "source": [
    "# Compute summary statistics of sound_1\n",
    "stats_sound_1 = statistics_mcds(sound_1_segment, coch_fb, mod_fb, downsampler, N_moments, alpha)\n",
    "stats_1_sound_1, stats_2_sound_1, stats_3_sound_1, stats_4_sound_1, stats_5_sound_1 = stats_sound_1\n",
    "print(\"Sound 1 summary statistics: \")\n",
    "print(\"Stats_1_sound_1:\", stats_1_sound_1)\n",
    "print(\"Stats_2_sound_1:\", stats_2_sound_1)\n",
    "print(\"Stats_3_sound_1:\", stats_3_sound_1)\n",
    "print(\"Stats_4_sound_1:\", stats_4_sound_1)\n",
    "print(\"Stats_5_sound_1:\", stats_5_sound_1)"
   ]
  },
  {
   "cell_type": "code",
   "execution_count": null,
   "metadata": {},
   "outputs": [],
   "source": [
    "# Loss function computation between segments of sound_1 and sound_2\n",
    "loss = texstat_loss(sound_1_segment, sound_2_segment, coch_fb, mod_fb, downsampler, N_moments, alpha, beta)\n",
    "print(\"Loss:\", loss)"
   ]
  },
  {
   "cell_type": "code",
   "execution_count": null,
   "metadata": {},
   "outputs": [],
   "source": [
    "# Compute summary statistics for the batch corresponding to sound_1\n",
    "stats_sound_1_batch = statistics_mcds(sound_1_batch, coch_fb, mod_fb, downsampler, N_moments, alpha)\n",
    "stats_1_sound_1_batch, stats_2_sound_1_batch, stats_3_sound_1_batch, stats_4_sound_1_batch, stats_5_sound_1_batch = stats_sound_1_batch\n",
    "print(\"Sound 1 summary statistics: \")\n",
    "print(\"Stats_1_sound_1_batch:\", stats_1_sound_1_batch)\n",
    "print(\"Stats_2_sound_1_batch:\", stats_2_sound_1_batch)\n",
    "print(\"Stats_3_sound_1_batch:\", stats_3_sound_1_batch)\n",
    "print(\"Stats_4_sound_1_batch:\", stats_4_sound_1_batch)\n",
    "print(\"Stats_5_sound_1_batch:\", stats_5_sound_1_batch)"
   ]
  },
  {
   "cell_type": "code",
   "execution_count": null,
   "metadata": {},
   "outputs": [],
   "source": [
    "# Compute loss function between batches of sound_1 and sound_2\n",
    "loss_batch = texstat_loss(sound_1_batch, sound_2_batch, coch_fb, mod_fb, downsampler, N_moments, alpha, beta)\n",
    "print(\"Loss batch:\", loss_batch)"
   ]
  }
 ],
 "metadata": {
  "kernelspec": {
   "display_name": ".venv",
   "language": "python",
   "name": "python3"
  },
  "language_info": {
   "codemirror_mode": {
    "name": "ipython",
    "version": 3
   },
   "file_extension": ".py",
   "mimetype": "text/x-python",
   "name": "python",
   "nbconvert_exporter": "python",
   "pygments_lexer": "ipython3",
   "version": "3.12.3"
  }
 },
 "nbformat": 4,
 "nbformat_minor": 2
}
