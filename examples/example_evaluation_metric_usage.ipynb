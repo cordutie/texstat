{
 "cells": [
  {
   "cell_type": "code",
   "execution_count": null,
   "metadata": {},
   "outputs": [],
   "source": [
    "# Add the parent directory to the Python path\n",
    "import sys\n",
    "import os\n",
    "parent_dir = os.path.abspath('..')\n",
    "if parent_dir not in sys.path:\n",
    "    sys.path.append(parent_dir)\n",
    "\n",
    "# Import loss function\n",
    "from texstat.functions import *\n",
    "from texstat.fad import *\n",
    "import texstat.torch_filterbanks.filterbanks as fb\n",
    "\n",
    "# Import extra packages\n",
    "import numpy as np\n",
    "import librosa\n",
    "import matplotlib.pyplot as plt\n",
    "from IPython.display import Audio\n",
    "import torch\n",
    "import torchaudio\n",
    "import time\n",
    "\n",
    "# Pick device\n",
    "device = \"cuda\" if torch.cuda.is_available() else \"cpu\"\n",
    "print(f\"Using device: {device}\")"
   ]
  },
  {
   "cell_type": "code",
   "execution_count": null,
   "metadata": {},
   "outputs": [],
   "source": [
    "# Texstat model parameters\n",
    "sr            = 44100\n",
    "frame_size    = 2**16\n",
    "N_filter_bank = 16\n",
    "M_filter_bank = 6\n",
    "N_moments     = 4\n",
    "alpha         = torch.tensor([100, 1, 1/10, 1/100])\n",
    "beta          = torch.tensor([1, 1, 1, 1, 1])\n",
    "new_sr, new_frame_size = sr // 4, frame_size // 4 # for downsampler\n",
    "downsampler = torchaudio.transforms.Resample(sr, new_sr)\n",
    "coch_fb     = fb.EqualRectangularBandwidth(frame_size, sr, N_filter_bank, 20, sr // 2)\n",
    "mod_fb      = fb.Logarithmic(new_frame_size,       new_sr, M_filter_bank, 10, new_sr // 4)\n",
    "\n",
    "# Texstat embeddings computing\n",
    "class_1 = \"path/to/class_1\"\n",
    "class_2 = \"path/to/class_2\"\n",
    "\n",
    "fad_score = compute_fad_folders_pair(folder_path_1 = class_1, \n",
    "                                    folder_path_2  = class_2, \n",
    "                                    segment_size   = frame_size, \n",
    "                                    sample_rate    = sr, \n",
    "                                    save           = False, # don't save embeddings\n",
    "                                    coch_fb=coch_fb,\n",
    "                                    mod_fb=mod_fb,\n",
    "                                    downsampler=downsampler,\n",
    "                                    N_moments=N_moments,\n",
    "                                    alpha=alpha)\n",
    "print(f\"\\nFAD score fire-water: {fad_score}\\n\")"
   ]
  }
 ],
 "metadata": {
  "kernelspec": {
   "display_name": "venv_texstat",
   "language": "python",
   "name": "python3"
  },
  "language_info": {
   "codemirror_mode": {
    "name": "ipython",
    "version": 3
   },
   "file_extension": ".py",
   "mimetype": "text/x-python",
   "name": "python",
   "nbconvert_exporter": "python",
   "pygments_lexer": "ipython3",
   "version": "3.12.3"
  }
 },
 "nbformat": 4,
 "nbformat_minor": 2
}
