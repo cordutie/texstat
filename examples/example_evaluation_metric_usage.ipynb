{
 "cells": [
  {
   "cell_type": "code",
   "execution_count": null,
   "metadata": {},
   "outputs": [],
   "source": [
    "# Add the parent directory to the Python path\n",
    "import sys\n",
    "import os\n",
    "parent_dir = os.path.abspath('..')\n",
    "if parent_dir not in sys.path:\n",
    "    sys.path.append(parent_dir)\n",
    "\n",
    "# Import texstat packages\n",
    "from texstat.fad import FAD_wrapper"
   ]
  },
  {
   "cell_type": "code",
   "execution_count": 4,
   "metadata": {},
   "outputs": [
    {
     "name": "stdout",
     "output_type": "stream",
     "text": [
      "Processing folder: \n",
      "Found 1 files in sounds_1/\n",
      "    Segmented 119 segments from sounds_1/bubbles_resynth.wav\n",
      "Total segments: 119\n",
      "Processed 119 segments in sounds_1/\n",
      "Processing folder: \n",
      "Found 1 files in sounds_2/\n",
      "    Segmented 120 segments from sounds_2/bubbles.wav\n",
      "Total segments: 120\n",
      "Processed 120 segments in sounds_2/\n",
      "FAD score: 1.1477\n"
     ]
    }
   ],
   "source": [
    "# Texstat model parameters\n",
    "sr            = 44100\n",
    "frame_size    = 44100\n",
    "class_1 = \"sounds_1/\"\n",
    "class_2 = \"sounds_2/\"\n",
    "\n",
    "FAD_texstat = FAD_wrapper(frame_size = frame_size, sampling_rate = sr, device='cpu')\n",
    "\n",
    "fad_score = FAD_texstat.score(class_1, class_2)\n",
    "print(f\"FAD score: {fad_score:.4f}\")"
   ]
  }
 ],
 "metadata": {
  "kernelspec": {
   "display_name": "venv_texstat",
   "language": "python",
   "name": "python3"
  },
  "language_info": {
   "codemirror_mode": {
    "name": "ipython",
    "version": 3
   },
   "file_extension": ".py",
   "mimetype": "text/x-python",
   "name": "python",
   "nbconvert_exporter": "python",
   "pygments_lexer": "ipython3",
   "version": "3.12.3"
  }
 },
 "nbformat": 4,
 "nbformat_minor": 2
}
