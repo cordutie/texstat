{
 "cells": [
  {
   "cell_type": "code",
   "execution_count": null,
   "metadata": {},
   "outputs": [],
   "source": [
    "# Add the parent directory to the Python path\n",
    "import sys\n",
    "import os\n",
    "parent_dir = os.path.abspath('..')\n",
    "if parent_dir not in sys.path:\n",
    "    sys.path.append(parent_dir)\n",
    "\n",
    "# Import texstat packages\n",
    "from texstat.functions import *\n",
    "from texstat.fad import *\n",
    "import texstat.torch_filterbanks.filterbanks as fb\n",
    "\n",
    "# Import extra packages\n",
    "import torchaudio"
   ]
  },
  {
   "cell_type": "code",
   "execution_count": null,
   "metadata": {},
   "outputs": [],
   "source": [
    "# Texstat model parameters\n",
    "sr            = 44100\n",
    "frame_size    = 44100\n",
    "N_filter_bank = 16\n",
    "M_filter_bank = 6\n",
    "new_sr, new_frame_size = sr // 4, frame_size // 4 # for downsampler\n",
    "downsampler = torchaudio.transforms.Resample(sr, new_sr)\n",
    "coch_fb     = fb.EqualRectangularBandwidth(frame_size, sr, N_filter_bank, 20, sr // 2)\n",
    "mod_fb      = fb.Logarithmic(new_frame_size,       new_sr, M_filter_bank, 10, new_sr // 4)\n",
    "\n",
    "# Texstat embeddings computing\n",
    "class_1 = \"path/to/your/class_1\"\n",
    "class_2 = \"path/to/your/class_2\" \n",
    "# class_1 = \"/home/esteban/projects/dev_texstat/MicroTex/freesound_class/fire\"\n",
    "# class_2 = \"/home/esteban/projects/dev_texstat/MicroTex/freesound_class/water\"\n",
    "\n",
    "fad_score = compute_fad_from_folders(folder_path_1  = class_1,\n",
    "                                    folder_path_2   = class_2, \n",
    "                                    segment_size    = frame_size,\n",
    "                                    sample_rate     = sr,\n",
    "                                    segments_number = 100, # put None for it to be computed on all data\n",
    "                                    save            = False, \n",
    "                                    coch_fb         = coch_fb,\n",
    "                                    mod_fb          = mod_fb,\n",
    "                                    downsampler     = downsampler,\n",
    "                                    )\n",
    "\n",
    "print(fad_score)\n"
   ]
  }
 ],
 "metadata": {
  "kernelspec": {
   "display_name": "venv_texstat",
   "language": "python",
   "name": "python3"
  },
  "language_info": {
   "codemirror_mode": {
    "name": "ipython",
    "version": 3
   },
   "file_extension": ".py",
   "mimetype": "text/x-python",
   "name": "python",
   "nbconvert_exporter": "python",
   "pygments_lexer": "ipython3",
   "version": "3.12.3"
  }
 },
 "nbformat": 4,
 "nbformat_minor": 2
}
